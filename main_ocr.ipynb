{
 "cells": [
  {
   "cell_type": "code",
   "execution_count": 1,
   "metadata": {},
   "outputs": [],
   "source": [
    "import cv2\n",
    "import re\n",
    "import pytesseract\n",
    "import os\n",
    "import numpy as np\n",
    "from matplotlib import pyplot as plt\n",
    "from pytesseract import Output"
   ]
  },
  {
   "cell_type": "markdown",
   "metadata": {},
   "source": [
    "\n",
    "# Métoddos"
   ]
  },
  {
   "cell_type": "code",
   "execution_count": 2,
   "metadata": {},
   "outputs": [],
   "source": [
    "def show_img(img):\n",
    "    plt.figure(figsize = (25,15))\n",
    "    plt.imshow(img)\n",
    "    plt.title('Cupom')\n",
    "    plt.plot(8,8)\n",
    "    plt.show()"
   ]
  },
  {
   "cell_type": "code",
   "execution_count": 3,
   "metadata": {},
   "outputs": [],
   "source": [
    "def busca_dados(arquivo):\n",
    "    \n",
    "    nome_arquivo, extensao_arquivo = os.path.splitext(arquivo)\n",
    "    \n",
    "    print(f'Extensão: {extensao_arquivo}')\n",
    "    if (extensao_arquivo != '.png' and extensao_arquivo != '.jpg'):\n",
    "        return None\n",
    "    \n",
    "    print(f'Processando: {nome_arquivo}')\n",
    "    \n",
    "    data_compra = ''\n",
    "    cnpj = ''\n",
    "    total = ''\n",
    "\n",
    "    img_cupom = cv2.imread(arquivo)\n",
    "    img_scale = cv2.resize(img_cupom, (0, 0), fx=2, fy=2)\n",
    "    img_gray = cv2.cvtColor(img_scale, cv2.COLOR_BGR2GRAY)\n",
    "\n",
    "\n",
    "    custom_config = r'--oem 3 --psm 6 -l por'\n",
    "    date_pattern = '^(0?[1-9]|[12][0-9]|3[01])[\\/\\-](0?[1-9]|1[012])[\\/\\-]\\d{4}$'\n",
    "    cnpj_pattern = '[0-9]{2}\\.?[0-9]{3}\\.?[0-9]{3}\\/?[0-9]{4}\\-?[0-9]{2}'\n",
    "    val_pattern = '[0-9]'\n",
    "\n",
    "    cupom_fulltext = pytesseract.image_to_string(img_gray, config=custom_config)\n",
    "\n",
    "    nome_estabelecimento = re.match('\\A.*', cupom_fulltext).group()\n",
    "\n",
    "    cnpj_search = re.search(cnpj_pattern, cupom_fulltext)\n",
    "    if cnpj_search != None:\n",
    "        cnpj = cnpj_search.group()\n",
    "    data_search = re.search(date_pattern, cupom_fulltext)\n",
    "    if data_search != None:\n",
    "        data_compra = data_search.group()\n",
    "\n",
    "    isTotal = False\n",
    "    hasTotal = False\n",
    "\n",
    "    cupom_data = pytesseract.image_to_data(img_gray, output_type=Output.DICT, lang='por',config=custom_config)\n",
    "\n",
    "    n_boxes = len(cupom_data['text'])\n",
    "    for t in range(n_boxes):\n",
    "        texto = cupom_data['text'][t]\n",
    "        if re.match(date_pattern, texto):\n",
    "            data_compra = texto\n",
    "        if re.match(cnpj_pattern, texto):\n",
    "            cnpj = texto\n",
    "        if re.match('total', texto, re.IGNORECASE) and hasTotal == False:\n",
    "            isTotal = True\n",
    "        if isTotal:\n",
    "            if re.match(val_pattern, texto):\n",
    "                total = texto\n",
    "                isTotal = False\n",
    "                hasTotal = True\n",
    "\n",
    "\n",
    "    print(f'Nome: {nome_estabelecimento}')\n",
    "    print(f'CNPJ: {cnpj}')\n",
    "    print(f'Data: {data_compra}')\n",
    "    print(f'Total: {total}')\n",
    "    print('\\n')\n",
    "\n",
    "    return nome_estabelecimento, cnpj, data_compra, total\n"
   ]
  },
  {
   "cell_type": "code",
   "execution_count": 4,
   "metadata": {},
   "outputs": [],
   "source": [
    "def iterar_arquivos():\n",
    "    dirName = 'arquivos'\n",
    "    file_list = os.listdir(dirName)\n",
    "    for entry in file_list:\n",
    "        arquivo = os.path.join(dirName, entry)\n",
    "        dados = busca_dados(arquivo)\n",
    "        if dados != None:\n",
    "            salvar_ocr(arquivo, dados)"
   ]
  },
  {
   "cell_type": "code",
   "execution_count": 5,
   "metadata": {},
   "outputs": [],
   "source": [
    "def salvar_ocr(arquivo, dados):\n",
    "    nome_arquivo, extensao_arquivo = os.path.splitext(arquivo)\n",
    "    with open(nome_arquivo + '.txt', 'w') as out:\n",
    "        out.write(f'Estabalecimento: {dados[0]}\\n')\n",
    "        out.write(f'CNPJ: {dados[1]}\\n')\n",
    "        out.write(f'Data: {dados[2]}\\n')\n",
    "        out.write(f'Total: {dados[3]}')"
   ]
  },
  {
   "cell_type": "markdown",
   "metadata": {},
   "source": [
    "# Main"
   ]
  },
  {
   "cell_type": "code",
   "execution_count": 6,
   "metadata": {},
   "outputs": [
    {
     "name": "stdout",
     "output_type": "stream",
     "text": [
      "Extensão: .jpg\n",
      "Processando: arquivos\\cupom2\n",
      "Nome: LOJAS RENNER S.A.\n",
      "CNPJ: 92.754.738/0013-04\n",
      "Data: 03/05/2013\n",
      "Total: 288,90\n",
      "\n",
      "\n",
      "Extensão: .txt\n",
      "Extensão: .jpg\n",
      "Processando: arquivos\\cupom3\n",
      "Nome: CUPOM FISCAL\n",
      "CNPJ: \n",
      "Data: 05/02/2015\n",
      "Total: 200,00\n",
      "\n",
      "\n",
      "Extensão: .txt\n",
      "Extensão: .jpg\n",
      "Processando: arquivos\\cupom4\n",
      "Nome: Epson do Brasil Ind, e Com.\n",
      "CNPJ: 52.106.911/0001-00\n",
      "Data: 07/07/2007\n",
      "Total: 21.00\n",
      "\n",
      "\n",
      "Extensão: .txt\n"
     ]
    }
   ],
   "source": [
    "iterar_arquivos()"
   ]
  },
  {
   "cell_type": "code",
   "execution_count": null,
   "metadata": {},
   "outputs": [],
   "source": []
  }
 ],
 "metadata": {
  "kernelspec": {
   "display_name": "Python 3",
   "language": "python",
   "name": "python3"
  },
  "language_info": {
   "codemirror_mode": {
    "name": "ipython",
    "version": 3
   },
   "file_extension": ".py",
   "mimetype": "text/x-python",
   "name": "python",
   "nbconvert_exporter": "python",
   "pygments_lexer": "ipython3",
   "version": "3.9.7"
  }
 },
 "nbformat": 4,
 "nbformat_minor": 4
}
